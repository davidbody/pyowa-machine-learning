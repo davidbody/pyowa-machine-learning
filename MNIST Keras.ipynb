{
 "cells": [
  {
   "cell_type": "markdown",
   "metadata": {},
   "source": [
    "## Python imports"
   ]
  },
  {
   "cell_type": "code",
   "execution_count": 1,
   "metadata": {},
   "outputs": [
    {
     "name": "stderr",
     "output_type": "stream",
     "text": [
      "Using TensorFlow backend.\n"
     ]
    }
   ],
   "source": [
    "from tensorflow.examples.tutorials.mnist import input_data\n",
    "from keras.utils import to_categorical\n",
    "from keras import models\n",
    "from keras import layers\n",
    "from keras import optimizers\n",
    "import matplotlib.pyplot as plt\n",
    "import numpy as np\n",
    "from sklearn.metrics import classification_report, confusion_matrix"
   ]
  },
  {
   "cell_type": "markdown",
   "metadata": {},
   "source": [
    "## Read MNIST data (download if necessary)"
   ]
  },
  {
   "cell_type": "code",
   "execution_count": 2,
   "metadata": {},
   "outputs": [
    {
     "name": "stdout",
     "output_type": "stream",
     "text": [
      "Extracting ../data/train-images-idx3-ubyte.gz\n",
      "Extracting ../data/train-labels-idx1-ubyte.gz\n",
      "Extracting ../data/t10k-images-idx3-ubyte.gz\n",
      "Extracting ../data/t10k-labels-idx1-ubyte.gz\n"
     ]
    }
   ],
   "source": [
    "mnist = input_data.read_data_sets('../data/', one_hot=True)"
   ]
  },
  {
   "cell_type": "markdown",
   "metadata": {},
   "source": [
    "## Verify data shape\n",
    "\n",
    "* Training set\n",
    "* Validation set\n",
    "* Test set"
   ]
  },
  {
   "cell_type": "code",
   "execution_count": 3,
   "metadata": {},
   "outputs": [
    {
     "data": {
      "text/plain": [
       "((55000, 784), (55000, 10))"
      ]
     },
     "execution_count": 3,
     "metadata": {},
     "output_type": "execute_result"
    }
   ],
   "source": [
    "mnist.train.images.shape, mnist.train.labels.shape"
   ]
  },
  {
   "cell_type": "code",
   "execution_count": 4,
   "metadata": {},
   "outputs": [
    {
     "data": {
      "text/plain": [
       "((5000, 784), (5000, 10))"
      ]
     },
     "execution_count": 4,
     "metadata": {},
     "output_type": "execute_result"
    }
   ],
   "source": [
    "mnist.validation.images.shape, mnist.validation.labels.shape"
   ]
  },
  {
   "cell_type": "code",
   "execution_count": 5,
   "metadata": {},
   "outputs": [
    {
     "data": {
      "text/plain": [
       "((10000, 784), (10000, 10))"
      ]
     },
     "execution_count": 5,
     "metadata": {},
     "output_type": "execute_result"
    }
   ],
   "source": [
    "mnist.test.images.shape, mnist.test.labels.shape"
   ]
  },
  {
   "cell_type": "markdown",
   "metadata": {},
   "source": [
    "## Configure neural network\n",
    "\n",
    "* 784 input units\n",
    "* 15 hidden units with sigmoid activation functions\n",
    "* 10 softmax output units"
   ]
  },
  {
   "cell_type": "code",
   "execution_count": 6,
   "metadata": {
    "collapsed": true
   },
   "outputs": [],
   "source": [
    "model = models.Sequential()\n",
    "model.add(layers.Dense(15, activation = 'sigmoid', input_shape = (28 * 28,)))\n",
    "model.add(layers.Dense(10, activation = 'softmax'))"
   ]
  },
  {
   "cell_type": "markdown",
   "metadata": {},
   "source": [
    "## Specify loss function and optimizer\n",
    "\n",
    "* Categorical cross-entropy loss function\n",
    "* RMSprop optimizer (learning rate is adapted for each parameter)"
   ]
  },
  {
   "cell_type": "code",
   "execution_count": 7,
   "metadata": {
    "collapsed": true
   },
   "outputs": [],
   "source": [
    "model.compile(optimizer = optimizers.RMSprop(lr = 0.001),\n",
    "              loss = 'categorical_crossentropy',\n",
    "              metrics = ['accuracy'])"
   ]
  },
  {
   "cell_type": "markdown",
   "metadata": {},
   "source": [
    "## Model summary"
   ]
  },
  {
   "cell_type": "code",
   "execution_count": 8,
   "metadata": {},
   "outputs": [
    {
     "name": "stdout",
     "output_type": "stream",
     "text": [
      "_________________________________________________________________\n",
      "Layer (type)                 Output Shape              Param #   \n",
      "=================================================================\n",
      "dense_1_input (InputLayer)   (None, 784)               0         \n",
      "_________________________________________________________________\n",
      "dense_1 (Dense)              (None, 15)                11775     \n",
      "_________________________________________________________________\n",
      "dense_2 (Dense)              (None, 10)                160       \n",
      "=================================================================\n",
      "Total params: 11,935\n",
      "Trainable params: 11,935\n",
      "Non-trainable params: 0\n",
      "_________________________________________________________________\n"
     ]
    }
   ],
   "source": [
    "model.model.summary()"
   ]
  },
  {
   "cell_type": "markdown",
   "metadata": {},
   "source": [
    "## Train the neural network"
   ]
  },
  {
   "cell_type": "code",
   "execution_count": 9,
   "metadata": {},
   "outputs": [
    {
     "name": "stdout",
     "output_type": "stream",
     "text": [
      "Train on 55000 samples, validate on 5000 samples\n",
      "Epoch 1/20\n",
      "0s - loss: 1.7249 - acc: 0.5969 - val_loss: 1.3506 - val_acc: 0.7686\n",
      "Epoch 2/20\n",
      "0s - loss: 1.1608 - acc: 0.8111 - val_loss: 0.9696 - val_acc: 0.8492\n",
      "Epoch 3/20\n",
      "0s - loss: 0.8637 - acc: 0.8566 - val_loss: 0.7384 - val_acc: 0.8734\n",
      "Epoch 4/20\n",
      "0s - loss: 0.6772 - acc: 0.8745 - val_loss: 0.5896 - val_acc: 0.8862\n",
      "Epoch 5/20\n",
      "0s - loss: 0.5572 - acc: 0.8842 - val_loss: 0.4940 - val_acc: 0.8940\n",
      "Epoch 6/20\n",
      "0s - loss: 0.4776 - acc: 0.8916 - val_loss: 0.4305 - val_acc: 0.9014\n",
      "Epoch 7/20\n",
      "0s - loss: 0.4233 - acc: 0.8981 - val_loss: 0.3850 - val_acc: 0.9066\n",
      "Epoch 8/20\n",
      "0s - loss: 0.3850 - acc: 0.9035 - val_loss: 0.3537 - val_acc: 0.9114\n",
      "Epoch 9/20\n",
      "0s - loss: 0.3570 - acc: 0.9073 - val_loss: 0.3304 - val_acc: 0.9154\n",
      "Epoch 10/20\n",
      "0s - loss: 0.3353 - acc: 0.9112 - val_loss: 0.3125 - val_acc: 0.9174\n",
      "Epoch 11/20\n",
      "0s - loss: 0.3182 - acc: 0.9137 - val_loss: 0.2987 - val_acc: 0.9228\n",
      "Epoch 12/20\n",
      "0s - loss: 0.3044 - acc: 0.9170 - val_loss: 0.2877 - val_acc: 0.9248\n",
      "Epoch 13/20\n",
      "0s - loss: 0.2931 - acc: 0.9193 - val_loss: 0.2769 - val_acc: 0.9260\n",
      "Epoch 14/20\n",
      "0s - loss: 0.2832 - acc: 0.9209 - val_loss: 0.2686 - val_acc: 0.9280\n",
      "Epoch 15/20\n",
      "0s - loss: 0.2744 - acc: 0.9235 - val_loss: 0.2617 - val_acc: 0.9274\n",
      "Epoch 16/20\n",
      "0s - loss: 0.2669 - acc: 0.9249 - val_loss: 0.2551 - val_acc: 0.9284\n",
      "Epoch 17/20\n",
      "0s - loss: 0.2600 - acc: 0.9265 - val_loss: 0.2506 - val_acc: 0.9290\n",
      "Epoch 18/20\n",
      "0s - loss: 0.2539 - acc: 0.9279 - val_loss: 0.2461 - val_acc: 0.9308\n",
      "Epoch 19/20\n",
      "0s - loss: 0.2485 - acc: 0.9291 - val_loss: 0.2401 - val_acc: 0.9320\n",
      "Epoch 20/20\n",
      "0s - loss: 0.2434 - acc: 0.9306 - val_loss: 0.2361 - val_acc: 0.9336\n"
     ]
    }
   ],
   "source": [
    "history = model.fit(mnist.train.images,\n",
    "                    mnist.train.labels,\n",
    "                    epochs = 20,\n",
    "                    verbose = 2,\n",
    "                    batch_size = 512,\n",
    "                    validation_data = (mnist.validation.images, mnist.validation.labels))"
   ]
  },
  {
   "cell_type": "markdown",
   "metadata": {},
   "source": [
    "## Plot accuracy, loss"
   ]
  },
  {
   "cell_type": "code",
   "execution_count": 10,
   "metadata": {},
   "outputs": [
    {
     "data": {
      "image/png": "[encoded data removed]",
      "text/plain": [
       "<matplotlib.figure.Figure at 0x7f1e633dd9e8>"
      ]
     },
     "metadata": {},
     "output_type": "display_data"
    }
   ],
   "source": [
    "plt.plot(history.history['val_acc'])\n",
    "plt.ylabel('validation accuracy')\n",
    "plt.xlabel('epochs')\n",
    "plt.show()"
   ]
  },
  {
   "cell_type": "code",
   "execution_count": 11,
   "metadata": {},
   "outputs": [
    {
     "data": {
      "image/png": "[encoded data removed]",
      "text/plain": [
       "<matplotlib.figure.Figure at 0x7f1e6087fa58>"
      ]
     },
     "metadata": {},
     "output_type": "display_data"
    }
   ],
   "source": [
    "plt.plot(history.history['val_loss'])\n",
    "plt.ylabel('validation loss')\n",
    "plt.xlabel('epochs')\n",
    "plt.show()"
   ]
  },
  {
   "cell_type": "markdown",
   "metadata": {},
   "source": [
    "## Evaluate model accuracy on test data"
   ]
  },
  {
   "cell_type": "code",
   "execution_count": 12,
   "metadata": {},
   "outputs": [
    {
     "name": "stdout",
     "output_type": "stream",
     "text": [
      "\n",
      "Test accuracy:\n"
     ]
    },
    {
     "data": {
      "text/plain": [
       "0.92930000000000001"
      ]
     },
     "execution_count": 12,
     "metadata": {},
     "output_type": "execute_result"
    }
   ],
   "source": [
    "test_loss, test_acc = model.evaluate(mnist.test.images, mnist.test.labels, verbose = 0)\n",
    "print()\n",
    "print(\"Test accuracy:\")\n",
    "test_acc"
   ]
  },
  {
   "cell_type": "markdown",
   "metadata": {},
   "source": [
    "## Compute predicted values and predicted probabilities in test data"
   ]
  },
  {
   "cell_type": "code",
   "execution_count": 13,
   "metadata": {
    "collapsed": true
   },
   "outputs": [],
   "source": [
    "y_pred = model.predict_classes(mnist.test.images, verbose = 0)\n",
    "y_actual = mnist.test.labels.argmax(1)\n",
    "\n",
    "digits = [str(i) for i in range(10)]\n",
    "\n",
    "y_prob = model.predict(mnist.test.images)"
   ]
  },
  {
   "cell_type": "markdown",
   "metadata": {},
   "source": [
    "## Diagnostic measures"
   ]
  },
  {
   "cell_type": "code",
   "execution_count": 14,
   "metadata": {},
   "outputs": [
    {
     "name": "stdout",
     "output_type": "stream",
     "text": [
      "\n",
      "Classification report\n",
      "             precision    recall  f1-score   support\n",
      "\n",
      "          0       0.95      0.98      0.97       980\n",
      "          1       0.97      0.98      0.98      1135\n",
      "          2       0.92      0.90      0.91      1032\n",
      "          3       0.92      0.91      0.91      1010\n",
      "          4       0.93      0.95      0.94       982\n",
      "          5       0.90      0.88      0.89       892\n",
      "          6       0.94      0.95      0.94       958\n",
      "          7       0.93      0.93      0.93      1028\n",
      "          8       0.89      0.89      0.89       974\n",
      "          9       0.93      0.92      0.92      1009\n",
      "\n",
      "avg / total       0.93      0.93      0.93     10000\n",
      "\n"
     ]
    }
   ],
   "source": [
    "print()\n",
    "print(\"Classification report\")\n",
    "print(classification_report(y_actual, y_pred, target_names = digits))"
   ]
  },
  {
   "cell_type": "markdown",
   "metadata": {},
   "source": [
    "## Confusion matrix"
   ]
  },
  {
   "cell_type": "code",
   "execution_count": 15,
   "metadata": {},
   "outputs": [
    {
     "name": "stdout",
     "output_type": "stream",
     "text": [
      "\n",
      "Confusion matrix\n",
      "[[ 958    0    2    1    0    5   11    2    1    0]\n",
      " [   0 1112    3    2    1    2    4    1   10    0]\n",
      " [   9    1  933   15   11    4   12   14   32    1]\n",
      " [   1    0   25  916    2   23    1   14   20    8]\n",
      " [   1    6    5    0  928    0    9    2    5   26]\n",
      " [   7    3    4   33    8  784   11    8   27    7]\n",
      " [   8    3   13    0    8   14  910    0    2    0]\n",
      " [   3    7   21    4    9    0    0  955    2   27]\n",
      " [   5    6   11   16    9   31   10   11  869    6]\n",
      " [  12    7    1   12   22    5    0   19    3  928]]\n"
     ]
    }
   ],
   "source": [
    "print()\n",
    "print(\"Confusion matrix\")\n",
    "print(confusion_matrix(y_actual, y_pred))"
   ]
  },
  {
   "cell_type": "markdown",
   "metadata": {},
   "source": [
    "## Identify test examples where the model is wrong"
   ]
  },
  {
   "cell_type": "code",
   "execution_count": 16,
   "metadata": {},
   "outputs": [
    {
     "name": "stdout",
     "output_type": "stream",
     "text": [
      "\n",
      "Errors\n",
      "707\n"
     ]
    }
   ],
   "source": [
    "errors = np.where(np.not_equal(y_actual, y_pred))\n",
    "print()\n",
    "print(\"Errors\")\n",
    "print(len(errors[0]))\n",
    "# print(errors)"
   ]
  },
  {
   "cell_type": "markdown",
   "metadata": {},
   "source": [
    "## Utility functions"
   ]
  },
  {
   "cell_type": "code",
   "execution_count": 17,
   "metadata": {
    "collapsed": true
   },
   "outputs": [],
   "source": [
    "def show(image):\n",
    "    \"\"\"\n",
    "    Render a given numpy.uint8 2D array of pixel data.\n",
    "    \"\"\"\n",
    "    from matplotlib import pyplot\n",
    "    import matplotlib as mpl\n",
    "    fig = pyplot.figure()\n",
    "    ax = fig.add_subplot(1,1,1)\n",
    "    imgplot = ax.imshow(image, cmap=mpl.cm.Greys)\n",
    "    imgplot.set_interpolation('nearest')\n",
    "    ax.xaxis.set_ticks_position('top')\n",
    "    ax.yaxis.set_ticks_position('left')\n",
    "    pyplot.show()"
   ]
  },
  {
   "cell_type": "code",
   "execution_count": 18,
   "metadata": {
    "collapsed": true
   },
   "outputs": [],
   "source": [
    "def review(idx):\n",
    "    img = mnist.test.images[idx]\n",
    "    img = img.reshape((28, 28))\n",
    "    show(img)\n",
    "    print(\"Index: {}\".format(idx))\n",
    "    print(\"Predicted: {0}, Actual: {1}\".format(y_pred[idx], y_actual[idx]))\n",
    "    print(\"y_prob: {0}\".format(np.array_str(y_prob[idx], precision = 2, suppress_small = True)))"
   ]
  },
  {
   "cell_type": "markdown",
   "metadata": {},
   "source": [
    "## Look at some randomly selected errors"
   ]
  },
  {
   "cell_type": "code",
   "execution_count": 19,
   "metadata": {},
   "outputs": [
    {
     "data": {
      "image/png": "[encoded data removed]",
      "text/plain": [
       "<matplotlib.figure.Figure at 0x7f1e940dd358>"
      ]
     },
     "metadata": {},
     "output_type": "display_data"
    },
    {
     "name": "stdout",
     "output_type": "stream",
     "text": [
      "Index: 3836\n",
      "Predicted: 9, Actual: 7\n",
      "y_prob: [ 0.    0.    0.    0.    0.09  0.02  0.    0.14  0.02  0.73]\n"
     ]
    },
    {
     "data": {
      "image/png": "[encoded data removed]",
      "text/plain": [
       "<matplotlib.figure.Figure at 0x7f1e607c1860>"
      ]
     },
     "metadata": {},
     "output_type": "display_data"
    },
    {
     "name": "stdout",
     "output_type": "stream",
     "text": [
      "Index: 3846\n",
      "Predicted: 2, Actual: 6\n",
      "y_prob: [ 0.01  0.    0.73  0.01  0.01  0.    0.22  0.01  0.    0.  ]\n"
     ]
    },
    {
     "data": {
      "image/png": "[encoded data removed]",
      "text/plain": [
       "<matplotlib.figure.Figure at 0x7f1e5f24d860>"
      ]
     },
     "metadata": {},
     "output_type": "display_data"
    },
    {
     "name": "stdout",
     "output_type": "stream",
     "text": [
      "Index: 6775\n",
      "Predicted: 8, Actual: 5\n",
      "y_prob: [ 0.    0.04  0.05  0.    0.    0.1   0.    0.04  0.76  0.  ]\n"
     ]
    },
    {
     "data": {
      "image/png": "[encoded data removed]",
      "text/plain": [
       "<matplotlib.figure.Figure at 0x7f1e5eda1ba8>"
      ]
     },
     "metadata": {},
     "output_type": "display_data"
    },
    {
     "name": "stdout",
     "output_type": "stream",
     "text": [
      "Index: 8279\n",
      "Predicted: 5, Actual: 8\n",
      "y_prob: [ 0.    0.01  0.01  0.    0.01  0.87  0.03  0.01  0.06  0.  ]\n"
     ]
    },
    {
     "data": {
      "image/png": "[encoded data removed]",
      "text/plain": [
       "<matplotlib.figure.Figure at 0x7f1e5ed3dda0>"
      ]
     },
     "metadata": {},
     "output_type": "display_data"
    },
    {
     "name": "stdout",
     "output_type": "stream",
     "text": [
      "Index: 5217\n",
      "Predicted: 8, Actual: 2\n",
      "y_prob: [ 0.    0.01  0.16  0.03  0.    0.03  0.    0.    0.75  0.  ]\n"
     ]
    }
   ],
   "source": [
    "from random import sample\n",
    "for i in sample(list(errors[0]), 5):\n",
    "    review(i)"
   ]
  },
  {
   "cell_type": "code",
   "execution_count": null,
   "metadata": {
    "collapsed": true
   },
   "outputs": [],
   "source": []
  }
 ],
 "metadata": {
  "kernelspec": {
   "display_name": "Python 3",
   "language": "python",
   "name": "python3"
  },
  "language_info": {
   "codemirror_mode": {
    "name": "ipython",
    "version": 3
   },
   "file_extension": ".py",
   "mimetype": "text/x-python",
   "name": "python",
   "nbconvert_exporter": "python",
   "pygments_lexer": "ipython3",
   "version": "3.6.2"
  }
 },
 "nbformat": 4,
 "nbformat_minor": 2
}
